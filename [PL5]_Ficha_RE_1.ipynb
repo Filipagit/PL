{
  "nbformat": 4,
  "nbformat_minor": 0,
  "metadata": {
    "colab": {
      "provenance": []
    },
    "kernelspec": {
      "name": "python3",
      "display_name": "Python 3"
    },
    "language_info": {
      "name": "python"
    }
  },
  "cells": [
    {
      "cell_type": "markdown",
      "source": [
        "# Ficha de Expressões Regulares 1\n",
        "\n",
        "<img src=\"https://drive.google.com/uc?id=1XJPdzQ3epFGvA5cqP7AeQ2b1p9MStKLM\" width=500>"
      ],
      "metadata": {
        "id": "oVaAea-wCM6H"
      }
    },
    {
      "cell_type": "markdown",
      "source": [
        "### Conceitos básicos de expressões regulares\n",
        "\n",
        "- `a` - corresponde a uma ocorrência do caracter `a`.\n",
        "- `a?` - corresponde a 0 ou 1 ocorrências do caracter `a`.\n",
        "- `a+` - corresponde a 1 ou mais ocorrências do caracter `a`.\n",
        "- `a*` - corresponde a 0 ou mais ocorrências do caracter `a`.\n",
        "- `[abc]` - corresponde a uma ocorrência de um dos caracteres `a`, `b` ou `c`.\n",
        "- `[a-z]` - corresponde a uma ocorrência de um caracter entre `a` e `z`.\n",
        "- `^` - corresponde ao início da string.\n",
        "- `$` - corresponde ao fim da string.\n",
        "- `[^abc]` - corresponde a uma ocorrência de qualquer caracter que não seja `a`, `b` ou `c`.\n",
        "\n",
        "Podemos usar o operador de união para unir várias expressões regulares. Por exemplo: `a|bbb|[^a-z]`, que corresponde a uma das várias (neste caso, 3) expressões regulares que fazem parte da união.\n",
        "\n",
        "Podemos simplificar expressões regulares como `bbb` para `b{3}`, ou seja, 3 ocorrências consecutivas do caracter `b`, neste caso. Outras opções incluem `b{3,}` para 3 ou mais ocorrências ou `b{3,6}` para entre 3 a 6 ocorrências, por exemplo.\n",
        "\n",
        "Para formar grupos de expressões regulares, usamos parênteses. Por exemplo: `((abc)*|[0-9]+)?`. Os operadores após um grupo atuam sobre o grupo.\n",
        "\n",
        "Podemos ainda aplicar modificadores a grupos. Por exemplo, `(?i:teste)` corresponde à expressão \"teste\", escrita com qualquer combinação de maiúsculas e minúsculas (e.g., \"TESTE\", \"tEsTe\", \"TEste\", etc.)."
      ],
      "metadata": {
        "id": "gk5jnHXt9t4y"
      }
    },
    {
      "cell_type": "markdown",
      "source": [
        "## Exercício 1"
      ],
      "metadata": {
        "id": "yDRt0yOgJ-TW"
      }
    },
    {
      "cell_type": "markdown",
      "source": [
        "### Alínea 1.1\n",
        "\n",
        "Dada uma linha de texto, define um programa que determina se a palavra \"hello\" aparece no início da linha.\n",
        "\n",
        "Conceitos importantes para este exercício:\n",
        "\n",
        "- `re.match(pattern, string[, flags])` - analisa a `string` e tenta encontrar uma correspondência para a expressão regular `pattern` a partir do início da string. Devolve `None` se não encontrar nenhuma correspondência.\n",
        "- `r\"\"` - string correspondente a uma expressão regular."
      ],
      "metadata": {
        "id": "gI05knhniDCr"
      }
    },
    {
      "cell_type": "code",
      "execution_count": null,
      "metadata": {
        "id": "ufl-7TGph9WH",
        "colab": {
          "base_uri": "https://localhost:8080/"
        },
        "outputId": "9ce4fced-d5f1-469b-9544-01c9e05d2442"
      },
      "outputs": [
        {
          "output_type": "stream",
          "name": "stdout",
          "text": [
            "True\n",
            "False\n",
            "False\n"
          ]
        }
      ],
      "source": [
        "import re\n",
        "\n",
        "line1 = \"hello world\"\n",
        "line2 = \"goodbye world\"\n",
        "line3 = \"hi, hello there\"\n",
        "\n",
        "for line in [line1, line2, line3]:\n",
        "  # print(re.search(r\"^hello\", line) != None)\n",
        "  print(re.match(r\"hello\", line) != None)"
      ]
    },
    {
      "cell_type": "markdown",
      "source": [
        "### Alínea 1.2\n",
        "\n",
        "Dada uma linha de texto, define um programa que determina se a palavra \"hello\" aparece em qualquer posição da linha.\n",
        "\n",
        "Conceitos importantes para este exercício:\n",
        "\n",
        "- `re.search(pattern, string[, flags])` - analisa a `string` e tenta encontrar uma correspondência para a expressão regular `pattern` em qualquer posição da string. Devolve `None` se não encontrar nenhuma correspondência."
      ],
      "metadata": {
        "id": "gzgOACqiJ7VN"
      }
    },
    {
      "cell_type": "code",
      "execution_count": null,
      "metadata": {
        "id": "TM-qMl-yJ7VS",
        "colab": {
          "base_uri": "https://localhost:8080/"
        },
        "outputId": "78d72752-8348-4fbb-816d-0d8e7c5df778"
      },
      "outputs": [
        {
          "output_type": "stream",
          "name": "stdout",
          "text": [
            "True\n",
            "False\n",
            "True\n"
          ]
        }
      ],
      "source": [
        "line1 = \"hello world\"\n",
        "line2 = \"goodbye world\"\n",
        "line3 = \"hi, hello there\"\n",
        "\n",
        "\n",
        "for line in [line1, line2, line3]:\n",
        "  print(re.search(r\"hello\", line) != None)"
      ]
    },
    {
      "cell_type": "markdown",
      "source": [
        "### Alínea 1.3\n",
        "\n",
        "Dada uma linha de texto, define um programa que pesquisa por todas as ocorrências da palavra \"hello\" dentro da linha, admitindo que a palavra seja escrita com maiúsculas ou minúsculas.\n",
        "\n",
        "Conceitos importantes para este exercício:\n",
        "\n",
        "- `re.findall(pattern, string[, flags])` - encontra todas as correspondências que não se sobreponham da expressão regular `pattern` na `string`. Devolve uma lista."
      ],
      "metadata": {
        "id": "6ZE7klswOy90"
      }
    },
    {
      "cell_type": "code",
      "source": [
        "line = \"Hello there! Uh, hi, hello, it's me... Heyyy, hello? HELLO!\"\n",
        "\n",
        "print(re.findall(r\"[hH][eE][lL][lL][oO]\", line))\n",
        "print(re.findall(r\"(?i:hello)\", line))"
      ],
      "metadata": {
        "id": "aHB_l7g5OzNY",
        "colab": {
          "base_uri": "https://localhost:8080/"
        },
        "outputId": "3c693d19-49d0-418c-aa3f-0fcdf9171788"
      },
      "execution_count": null,
      "outputs": [
        {
          "output_type": "stream",
          "name": "stdout",
          "text": [
            "['Hello', 'hello', 'hello', 'HELLO']\n",
            "['Hello', 'hello', 'hello', 'HELLO']\n"
          ]
        }
      ]
    },
    {
      "cell_type": "markdown",
      "source": [
        "### Alínea 1.4\n",
        "\n",
        "Dada uma linha de texto, define um programa que pesquisa por todas as ocorrências da palavra \"hello\" dentro da linha, substituindo cada uma por \"\\*YEP\\*\".\n",
        "\n",
        "Conceitos importantes para este exercício:\n",
        "\n",
        "- `re.sub(pattern, replacement, string, count = 0, flags = 0)` - substitui todas as correspondências da expressão regular `pattern` na `string` por `replacement`. `replacement` pode ser uma string, uma expressão regular ou uma função que recebe uma correspondência e devolve uma string. O parâmetro `count` determina o limite de substituições (por defeito é 0, ou seja, não há limite)."
      ],
      "metadata": {
        "id": "TSwUj26OPRmP"
      }
    },
    {
      "cell_type": "code",
      "source": [
        "line = \"Hello there! Uh, hi, hello, it's me... Heyyy, hello? HELLO!\"\n",
        "\n",
        "print(re.sub(r\"(?i:hello)\", \"*YEP*\", line))"
      ],
      "metadata": {
        "id": "SXLK2rhMPf11",
        "colab": {
          "base_uri": "https://localhost:8080/"
        },
        "outputId": "140da823-d617-4a4e-c4f6-21ead65c0f22"
      },
      "execution_count": null,
      "outputs": [
        {
          "output_type": "stream",
          "name": "stdout",
          "text": [
            "*YEP* there! Uh, hi, *YEP*, it's me... Heyyy, *YEP*? HELLO!\n"
          ]
        }
      ]
    },
    {
      "cell_type": "markdown",
      "source": [
        "### Alínea 1.5\n",
        "\n",
        "Dada uma linha de texto, define um programa que pesquisa por todas as ocorrências do caracter vírgula, separando cada parte da linha por esse caracter.\n",
        "\n",
        "Conceitos importantes para este exercício:\n",
        "\n",
        "- `re.split(pattern, string, maxsplit = 0, flags = 0)` - divide a `string` com base nas correspondências da expressão regular `pattern`. O parâmetro `maxsplit` pode ser usado para definir um limite de divisões (por defeito é 0, que corresponde a divisões infinitas)."
      ],
      "metadata": {
        "id": "MrgsEzJCPgbO"
      }
    },
    {
      "cell_type": "code",
      "source": [
        "line = \"bananas,    laranjas,maçãs,     uvas, melancias, cerejas,   kiwis, etc.\"\n",
        "\n",
        "print(re.split(r\", *\", line))"
      ],
      "metadata": {
        "id": "vrwiid6XPgvg",
        "colab": {
          "base_uri": "https://localhost:8080/"
        },
        "outputId": "1473570a-f869-41c9-a05c-481fb1265ce4"
      },
      "execution_count": null,
      "outputs": [
        {
          "output_type": "stream",
          "name": "stdout",
          "text": [
            "['bananas', 'laranjas', 'maçãs', 'uvas', 'melancias', 'cerejas', 'kiwis', 'etc.']\n"
          ]
        }
      ]
    },
    {
      "cell_type": "markdown",
      "source": [
        "## Exercício 2\n",
        "\n",
        "Define a função `palavra_magica` que recebe uma frase e determina se a mesma termina com a expressão \"por favor\", seguida de um sinal válido de pontuação."
      ],
      "metadata": {
        "id": "6QP0erT4iSzE"
      }
    },
    {
      "cell_type": "code",
      "source": [
        "def palavra_magica(frase):\n",
        "  return re.search(r\"por favor[.!?]+$\", frase) != None\n",
        "\n",
        "print(palavra_magica(\"Posso ir à casa de banho, por favor...\"))\n",
        "print(palavra_magica(\"Preciso de um favor.\"))"
      ],
      "metadata": {
        "id": "MhCC49z7jU7n",
        "colab": {
          "base_uri": "https://localhost:8080/"
        },
        "outputId": "0182d412-050a-4aaa-ec3d-90c69623f5a5"
      },
      "execution_count": null,
      "outputs": [
        {
          "output_type": "stream",
          "name": "stdout",
          "text": [
            "True\n",
            "False\n"
          ]
        }
      ]
    },
    {
      "cell_type": "markdown",
      "source": [
        "## Exercício 3\n",
        "\n",
        "Define a função `narcissismo` que calcula quantas vezes a palavra \"eu\" aparece numa string."
      ],
      "metadata": {
        "id": "L71wvPCujpBD"
      }
    },
    {
      "cell_type": "code",
      "source": [
        "def narcissismo(linha):\n",
        "  lista = re.findall(r\"[eE][uU]\",linha)\n",
        "  return len(lista)\n",
        "\n",
        "print(narcissismo(\"Eu não sei se eu quero continuar a ser eu. Por outro lado, eu ser eu é uma parte importante de quem EU sou.\"))"
      ],
      "metadata": {
        "id": "0HxFCow5nOj8",
        "colab": {
          "base_uri": "https://localhost:8080/"
        },
        "outputId": "727ec50a-bde9-42c3-f9d1-700242ad0d7f"
      },
      "execution_count": null,
      "outputs": [
        {
          "output_type": "stream",
          "name": "stdout",
          "text": [
            "6\n"
          ]
        }
      ]
    },
    {
      "cell_type": "markdown",
      "source": [
        "## Exercício 4\n",
        "\n",
        "Define a função `troca_de_curso` que substitui todas as ocorrências de \"LEI\" numa linha pelo nome do curso dado à função."
      ],
      "metadata": {
        "id": "EKETfRaOolO4"
      }
    },
    {
      "cell_type": "code",
      "source": [
        "def troca_de_curso(linha, novo_curso):\n",
        "  return re.sub(r'LEI', novo_curso, linha)\n",
        "\n",
        "print(troca_de_curso(\"LEI é o melhor curso! Adoro LEI! Gostar de LEI devia ser uma lei.\", \"LEF\"))"
      ],
      "metadata": {
        "id": "8ZVPMxfZpRrx",
        "colab": {
          "base_uri": "https://localhost:8080/"
        },
        "outputId": "ddc60eec-3d58-4904-ab5a-45e2e7cf439e"
      },
      "execution_count": null,
      "outputs": [
        {
          "output_type": "stream",
          "name": "stdout",
          "text": [
            "LEF é o melhor curso! Adoro LEF! Gostar de LEF devia ser uma lei.\n"
          ]
        }
      ]
    },
    {
      "cell_type": "markdown",
      "source": [
        "## Exercício 5\n",
        "\n",
        "Define a função `soma_string` que recebe uma string com vários números separados por uma vírgula (e.g., \"1,2,3,4,5\") e devolve a soma destes números."
      ],
      "metadata": {
        "id": "GZKMkTKcp886"
      }
    },
    {
      "cell_type": "code",
      "source": [
        "def soma_string(linha):\n",
        "  newList = re.split(r\",\",linha)\n",
        "  soma = 0\n",
        "  for i in newList :\n",
        "    soma += int(i)\n",
        "  return soma\n",
        "\n",
        "def soma_string2(linha):\n",
        "  return sum(int(x) for x in re.split(r\",\",linha))\n",
        "  \n",
        "\n",
        "print(soma_string2(\"4,-6,2,3,8,-3,0,2,-5,1\"))"
      ],
      "metadata": {
        "id": "ExqmZwj_rzuR",
        "colab": {
          "base_uri": "https://localhost:8080/"
        },
        "outputId": "3f7f661a-67cd-4aa0-9681-99d4829bbfb8"
      },
      "execution_count": null,
      "outputs": [
        {
          "output_type": "stream",
          "name": "stdout",
          "text": [
            "6\n"
          ]
        }
      ]
    },
    {
      "cell_type": "markdown",
      "source": [
        "## Exercício 6\n",
        "\n",
        "Define a função `pronomes` que encontra e devolve todos os pronomes pessoais presentes numa frase, i.e., \"eu\", \"tu\", \"ele\", \"ela\", etc., com atenção para letras maiúsculas ou minúsculas."
      ],
      "metadata": {
        "id": "n49iafoNzw-3"
      }
    },
    {
      "cell_type": "code",
      "source": [
        "import re\n",
        "#ignoreCase para ignorar a diferença entre maiusculas e minusculas\n",
        "#\\b palavras que correspondem exatamente a uma das opções entre parênteses\n",
        "def pronomes(frase):\n",
        "  pron=re.findall(r'\\b(eu|tu|ele|ela|nós|vós|eles|elas)\\b',frase,re.IGNORECASE)\n",
        "  return pron\n",
        "\n",
        "print(pronomes(\"Eu acho que ele vai chegar tarde\"))"
      ],
      "metadata": {
        "id": "RnuCrz2H0DWq",
        "outputId": "6f2b95f9-5cae-43d6-aea3-995914caddea",
        "colab": {
          "base_uri": "https://localhost:8080/"
        }
      },
      "execution_count": 13,
      "outputs": [
        {
          "output_type": "stream",
          "name": "stdout",
          "text": [
            "['Eu', 'ele']\n"
          ]
        }
      ]
    },
    {
      "cell_type": "markdown",
      "source": [
        "## Exercício 7\n",
        "\n",
        "Define a função `variavel_valida` que recebe uma string e determina se a mesma é um nome válido para uma variável, ou seja, se começa por uma letra e apenas contém letras, números ou *underscores*."
      ],
      "metadata": {
        "id": "BHMk88OQ0XFY"
      }
    },
    {
      "cell_type": "code",
      "source": [
        "import re\n",
        "\n",
        "def variavel_valida(nome):\n",
        "    # Verifica se o nome começa com uma letra\n",
        "    if not nome[0].isalpha():\n",
        "        return False\n",
        "    \n",
        "    # Verifica se o nome contém apenas letras, números ou underscores\n",
        "    # r'^[a-zA-Z0-9_]*$' verifica se a string nome[1:] (ou seja, a string nome a partir do segundo caractere) contém apenas letras (a-z, A-Z),\n",
        "    #números (0-9) ou underscores (_). O ^ indica o início da string, e o $ indica o fim da string, garantindo que não haja caracteres extras\n",
        "    # antes ou depois da sequência de caracteres permitidos.\n",
        "    if not re.match(r'^[a-zA-Z0-9_]*$', nome[1:]):\n",
        "        return False\n",
        "    \n",
        "    return True\n",
        "\n",
        "print(variavel_valida(\"1bla\"))"
      ],
      "metadata": {
        "id": "YTQW91Ws1WLx",
        "outputId": "f38b97ea-0fa9-4d82-d312-6d5342fa6ad7",
        "colab": {
          "base_uri": "https://localhost:8080/"
        }
      },
      "execution_count": 17,
      "outputs": [
        {
          "output_type": "stream",
          "name": "stdout",
          "text": [
            "False\n"
          ]
        }
      ]
    },
    {
      "cell_type": "markdown",
      "source": [
        "## Exercício 8\n",
        "\n",
        "Define a função `inteiros` que devolve todos os números inteiros presentes numa string. Um número inteiro pode conter um ou mais dígitos e pode ser positivo ou negativo."
      ],
      "metadata": {
        "id": "ZRWbgkMM5qzx"
      }
    },
    {
      "cell_type": "code",
      "source": [
        "import re\n",
        "def inteiros(numeros):\n",
        "  #A expressão regular r\"-?\\d+\" corresponde a um número inteiro positivo ou negativo, sendo que o sinal negativo é opcional (-?) \n",
        "  #e os dígitos do número inteiro são representados por \\d+.\n",
        "  n=re.findall(r\"-?\\d+\",numeros)\n",
        "  return [int(num) for num in n]\n",
        "\n",
        "print(inteiros(\"A temperatura hoje está em torno de -5°C. Amanhã vai subir para 10 graus.\"))"
      ],
      "metadata": {
        "id": "jsmiEi6gA7vh",
        "outputId": "c05a4930-71f5-4255-acc2-4c75adc08c22",
        "colab": {
          "base_uri": "https://localhost:8080/"
        }
      },
      "execution_count": 24,
      "outputs": [
        {
          "output_type": "stream",
          "name": "stdout",
          "text": [
            "[-5, 10]\n"
          ]
        }
      ]
    },
    {
      "cell_type": "markdown",
      "source": [
        "## Exercício 9\n",
        "\n",
        "Define a função `underscores` que substitui todos os espaços numa string por *underscores*. Se aparecerem vários espaços seguidos, devem ser substituídos por apenas um *underscore*."
      ],
      "metadata": {
        "id": "QhpGhtBT7aD3"
      }
    },
    {
      "cell_type": "code",
      "source": [
        "import re\n",
        "def underscores(texto):\n",
        "  # split-> separar a string numa lista de palavras sendo os espaços em branco os delimitadores\n",
        "  # split ignora os espaços em branco repetidos garantido que só é utilizado um underscore para separar as palavras\n",
        "  #join->une as palavras da lista com um underscore como separador\n",
        "  return '_'.join(texto.split())\n",
        "\n",
        "print(underscores(\"Rumo ao 20\"))  \n",
        " \n",
        "\n"
      ],
      "metadata": {
        "id": "1YTIkZT-6Ase",
        "outputId": "d262dfe7-1dd4-4ae4-a1ce-57c8191ee2fd",
        "colab": {
          "base_uri": "https://localhost:8080/"
        }
      },
      "execution_count": 25,
      "outputs": [
        {
          "output_type": "stream",
          "name": "stdout",
          "text": [
            "Rumo_ao_20\n"
          ]
        }
      ]
    },
    {
      "cell_type": "markdown",
      "source": [
        "## Exercício 10\n",
        "\n",
        "Define a função `codigos_postais` que recebe uma lista de códigos postais válidos e divide-os com base no hífen. A função deve devolver uma lista de pares."
      ],
      "metadata": {
        "id": "xcUrRlIy8uof"
      }
    },
    {
      "cell_type": "code",
      "source": [
        "lista = [\n",
        "    \"4700-000\",\n",
        "    \"1234-567\",\n",
        "    \"8541-543\",\n",
        "    \"4123-974\",\n",
        "    \"9481-025\"\n",
        "]\n",
        "\n",
        "import re\n",
        "def codigos_postais(codigos):\n",
        "    \"\"\"Divide códigos postais válidos com base no hífen.\"\"\"\n",
        "    pares = []\n",
        "    for codigo in codigos:\n",
        "        if \"-\" in codigo:\n",
        "            pares.append(tuple(codigo.split(\"-\")))\n",
        "        else:\n",
        "            pares.append((codigo, None))\n",
        "    return pares\n",
        "\n",
        "print(codigos_postais(lista))        \n",
        "\n",
        "\n"
      ],
      "metadata": {
        "id": "6xj01Oy09ncO",
        "outputId": "29a98581-fd3d-4ee6-af30-af334cd4317b",
        "colab": {
          "base_uri": "https://localhost:8080/"
        }
      },
      "execution_count": 30,
      "outputs": [
        {
          "output_type": "stream",
          "name": "stdout",
          "text": [
            "[('4700', '000'), ('1234', '567'), ('8541', '543'), ('4123', '974'), ('9481', '025')]\n"
          ]
        }
      ]
    }
  ]
}