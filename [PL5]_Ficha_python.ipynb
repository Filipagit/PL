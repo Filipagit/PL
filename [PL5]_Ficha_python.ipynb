{
  "cells": [
    {
      "cell_type": "markdown",
      "source": [
        "## Sobre Python\n",
        "\n",
        "Python é uma linguagem de programação de alto nível que pode ser usada em vários domínios (e.g.: aplicações web, processamento de língua natural, machine learning, etc.). É dinamicamente tipada e possui coletor de lixo. Suporta ainda vários paradigmas de programação (funcional, imperativo, orientado a objetos)."
      ],
      "metadata": {
        "id": "R_04OtjA3d2q"
      }
    },
    {
      "cell_type": "markdown",
      "source": [
        "### Exemplo de programas simples em Python"
      ],
      "metadata": {
        "id": "HyU7HQ2w43nq"
      }
    },
    {
      "cell_type": "code",
      "source": [
        "def main():\n",
        "  print(\"Hello World!\")"
      ],
      "metadata": {
        "id": "5KIkS6Ok43QA"
      },
      "execution_count": null,
      "outputs": []
    },
    {
      "cell_type": "markdown",
      "source": [
        "Python usa indentação para definir blocos em vez de chavetas, como em C e Java."
      ],
      "metadata": {
        "id": "FWU8W90Y5A1y"
      }
    },
    {
      "cell_type": "code",
      "source": [
        "def soma_iterativa(lista):\n",
        "  total = 0\n",
        "  for elem in lista:\n",
        "    total += elem\n",
        "  return total\n",
        "\n",
        "def soma_recursiva(lista):\n",
        "  if len(lista) == 0: return 0\n",
        "\n",
        "  h, *t = lista # alternativamente: h, t = lista[0], lista[1:]\n",
        "  return h + soma_recursiva(t)"
      ],
      "metadata": {
        "id": "81uC9tnM5KDX"
      },
      "execution_count": null,
      "outputs": []
    },
    {
      "cell_type": "markdown",
      "source": [
        "Ao contrário de linguagens como C, nas quais a função `main` determina o fluxo de execução, em Python apenas o código *top-level* é executado, isto é, o código no nível superior do ficheiro, fora de qualquer função ou classe."
      ],
      "metadata": {
        "id": "Nets8hWWC-9e"
      }
    },
    {
      "cell_type": "code",
      "source": [
        "def teste():\n",
        "  print(\"esta frase não é impressa.\")\n",
        "\n",
        "print(\"esta frase é impressa.\")\n",
        "teste()"
      ],
      "metadata": {
        "colab": {
          "base_uri": "https://localhost:8080/"
        },
        "id": "P9u3ortHDVEI",
        "outputId": "2528068d-0ab8-44d1-e933-e48dc5c060bd"
      },
      "execution_count": null,
      "outputs": [
        {
          "output_type": "stream",
          "name": "stdout",
          "text": [
            "esta frase é impressa.\n",
            "esta frase não é impressa.\n"
          ]
        }
      ]
    },
    {
      "cell_type": "markdown",
      "metadata": {
        "id": "oULL-9-wpfju"
      },
      "source": [
        "## Tipos de dados primitivos"
      ]
    },
    {
      "cell_type": "markdown",
      "source": [
        "### Inteiros"
      ],
      "metadata": {
        "id": "3YlpVwB0A3ta"
      }
    },
    {
      "cell_type": "code",
      "execution_count": null,
      "metadata": {
        "id": "uEsKsnzMpfjv",
        "colab": {
          "base_uri": "https://localhost:8080/"
        },
        "outputId": "8d7d4d94-18a3-45f0-e831-7b7085ab2969"
      },
      "outputs": [
        {
          "output_type": "stream",
          "name": "stdout",
          "text": [
            "8\n"
          ]
        }
      ],
      "source": [
        "x = 5\n",
        "y = 3\n",
        "print(x + y)"
      ]
    },
    {
      "cell_type": "markdown",
      "source": [
        "### Booleanos"
      ],
      "metadata": {
        "id": "wiCuE0KSA5nU"
      }
    },
    {
      "cell_type": "code",
      "execution_count": null,
      "metadata": {
        "colab": {
          "base_uri": "https://localhost:8080/"
        },
        "id": "pw7OI8v-pfjv",
        "outputId": "622876d7-4d51-4a18-8029-291678c2e77f"
      },
      "outputs": [
        {
          "output_type": "stream",
          "name": "stdout",
          "text": [
            "False\n",
            "True\n",
            "True\n"
          ]
        }
      ],
      "source": [
        "a = 10 < 5\n",
        "print(a)\n",
        "print(a or True)\n",
        "print(1 and (True or []) and not False)"
      ]
    },
    {
      "cell_type": "markdown",
      "source": [
        "### Reais"
      ],
      "metadata": {
        "id": "unR-iIN1BAcD"
      }
    },
    {
      "cell_type": "code",
      "execution_count": null,
      "metadata": {
        "colab": {
          "base_uri": "https://localhost:8080/"
        },
        "id": "MTFtoYWapfjw",
        "outputId": "435b3dd2-5bdf-4254-b731-8f78ad4c854f"
      },
      "outputs": [
        {
          "output_type": "stream",
          "name": "stdout",
          "text": [
            "14.333333333333334\n",
            "<class 'float'>\n",
            "14.33\n"
          ]
        }
      ],
      "source": [
        "media = (13+18+12)/3\n",
        "print(media)\n",
        "print(type(media))\n",
        "print(round(media, 2))"
      ]
    },
    {
      "cell_type": "markdown",
      "source": [
        "### Strings"
      ],
      "metadata": {
        "id": "fus-3G5wBEGK"
      }
    },
    {
      "cell_type": "code",
      "execution_count": null,
      "metadata": {
        "colab": {
          "base_uri": "https://localhost:8080/"
        },
        "id": "BFKGydRipfjw",
        "outputId": "544d1d61-75fd-4d7d-b0d5-62fd2f53ba41"
      },
      "outputs": [
        {
          "output_type": "stream",
          "name": "stdout",
          "text": [
            "q\n",
            "é fogo \n",
            "ver\n",
            "Ar gq ds  r\n",
            "romA\n"
          ]
        }
      ],
      "source": [
        "frase = \"Amor é fogo que arde sem se ver\"\n",
        "\n",
        "# Acesso a um caracter\n",
        "print(frase[12])\n",
        "# Acesso a uma fatia (excluíndo o último índice)\n",
        "print(frase[5:12])\n",
        "# A contar do fim: índices negativos\n",
        "print(frase[-3:])\n",
        "# Cada N caracteres:\n",
        "print(frase[::3])\n",
        "# Inverter string:\n",
        "print(frase[3::-1])"
      ]
    },
    {
      "cell_type": "code",
      "execution_count": null,
      "metadata": {
        "id": "Uj122wnGpfjw",
        "colab": {
          "base_uri": "https://localhost:8080/"
        },
        "outputId": "0c3459ba-25d5-428f-a577-2f66c3c68ac7"
      },
      "outputs": [
        {
          "output_type": "stream",
          "name": "stdout",
          "text": [
            "A frase tem 31 carateres.\n",
            "Vamos iterar sobre a string:\n",
            "A\n",
            "m\n",
            "o\n",
            "r\n",
            " \n",
            "é\n",
            " \n",
            "f\n",
            "o\n",
            "g\n",
            "o\n",
            " \n",
            "q\n",
            "u\n",
            "e\n",
            " \n",
            "a\n",
            "r\n",
            "d\n",
            "e\n",
            " \n",
            "s\n",
            "e\n",
            "m\n",
            " \n",
            "s\n",
            "e\n",
            " \n",
            "v\n",
            "e\n",
            "r\n"
          ]
        }
      ],
      "source": [
        "frase = \"Amor é fogo que arde sem se ver\"\n",
        "\n",
        "# Comprimento e concatenação de strings\n",
        "print(\"A frase tem \" + str(len(frase)) + \" carateres.\")\n",
        "\n",
        "print(\"Vamos iterar sobre a string:\")\n",
        "for c in frase:\n",
        "    print(c)"
      ]
    },
    {
      "cell_type": "code",
      "execution_count": null,
      "metadata": {
        "colab": {
          "base_uri": "https://localhost:8080/"
        },
        "id": "dzqVgh2Npfjw",
        "outputId": "f9c2ac1c-df1b-4f62-a191-2bca85030627"
      },
      "outputs": [
        {
          "output_type": "stream",
          "name": "stdout",
          "text": [
            "['Amor', 'é', 'fogo', 'que', 'arde', 'sem', 'se', 'ver']\n"
          ]
        }
      ],
      "source": [
        "# Partir uma string em substrings usando um ou mais caracteres como separador\n",
        "frase = \"Amor é fogo que arde sem se ver\"\n",
        "\n",
        "palavras = frase.split(\" \")\n",
        "print(palavras)\n",
        "# O resultado é uma lista, vamos ver à frente..."
      ]
    },
    {
      "cell_type": "code",
      "source": [
        "# ATENÇÃO: Python não tem nenhum tipo 'char'\n",
        "frase = \"Amor é fogo que arde sem se ver\"\n",
        "print(type(frase[0])) # Continua a ser uma string"
      ],
      "metadata": {
        "colab": {
          "base_uri": "https://localhost:8080/"
        },
        "id": "yRapa-EF-9mV",
        "outputId": "0915666f-7713-4ab8-ba7d-9fcef82be965"
      },
      "execution_count": null,
      "outputs": [
        {
          "output_type": "stream",
          "name": "stdout",
          "text": [
            "<class 'str'>\n"
          ]
        }
      ]
    },
    {
      "cell_type": "markdown",
      "source": [
        "## Condicionais"
      ],
      "metadata": {
        "id": "QFXvHUFpAppy"
      }
    },
    {
      "cell_type": "code",
      "source": [
        "if 10 > 5:\n",
        "  print(\"Está tudo bem!\")\n",
        "else: # o bloco 'else' é opcional\n",
        "  print(\"Passa-se algo de estranho...\")"
      ],
      "metadata": {
        "id": "cdc4_0srArsL",
        "colab": {
          "base_uri": "https://localhost:8080/"
        },
        "outputId": "928965da-6994-4aac-b344-f18805699a49"
      },
      "execution_count": null,
      "outputs": [
        {
          "output_type": "stream",
          "name": "stdout",
          "text": [
            "Está tudo bem!\n"
          ]
        }
      ]
    },
    {
      "cell_type": "code",
      "source": [
        "idade = 22\n",
        "if idade < 18:\n",
        "  print(\"Ainda não pode beber\")\n",
        "elif idade < 65:\n",
        "  print(\"Já pode beber\")\n",
        "else:\n",
        "  print(\"Se calhar não devia beber\")"
      ],
      "metadata": {
        "id": "uOXXcwODA1Q-",
        "colab": {
          "base_uri": "https://localhost:8080/"
        },
        "outputId": "9c04f3ad-a484-4d36-e991-b1049e366b60"
      },
      "execution_count": null,
      "outputs": [
        {
          "output_type": "stream",
          "name": "stdout",
          "text": [
            "Já pode beber\n"
          ]
        }
      ]
    },
    {
      "cell_type": "markdown",
      "source": [
        "## Ciclos"
      ],
      "metadata": {
        "id": "FAjCG3_H_0Mc"
      }
    },
    {
      "cell_type": "markdown",
      "source": [
        "### Ciclo for"
      ],
      "metadata": {
        "id": "Pu8sN8JCBoeV"
      }
    },
    {
      "cell_type": "code",
      "source": [
        "for i in [1,2,3,4,5]:\n",
        "  print(i)\n",
        "\n",
        "print(\"-----\")\n",
        "\n",
        "# ou\n",
        "for i in range(1,6):\n",
        "  print(i)"
      ],
      "metadata": {
        "id": "hUETJyvU_1di",
        "colab": {
          "base_uri": "https://localhost:8080/"
        },
        "outputId": "7544f602-e01f-48be-a764-6f5830c25b23"
      },
      "execution_count": null,
      "outputs": [
        {
          "output_type": "stream",
          "name": "stdout",
          "text": [
            "1\n",
            "2\n",
            "3\n",
            "4\n",
            "5\n",
            "-----\n",
            "1\n",
            "2\n",
            "3\n",
            "4\n",
            "5\n"
          ]
        }
      ]
    },
    {
      "cell_type": "markdown",
      "source": [
        "### Ciclo while"
      ],
      "metadata": {
        "id": "5vrW0z73Bq6A"
      }
    },
    {
      "cell_type": "code",
      "source": [
        "i = 5\n",
        "while i > 0:\n",
        "  print(i)\n",
        "  i -= 1 # Python não possui sintaxe ++/--"
      ],
      "metadata": {
        "colab": {
          "base_uri": "https://localhost:8080/"
        },
        "id": "FkkNUn0aAG-4",
        "outputId": "590a194f-f6b9-4a95-e09b-4bf4c98f2623"
      },
      "execution_count": null,
      "outputs": [
        {
          "output_type": "stream",
          "name": "stdout",
          "text": [
            "5\n",
            "4\n",
            "3\n",
            "2\n",
            "1\n"
          ]
        }
      ]
    },
    {
      "cell_type": "markdown",
      "source": [
        "## Ler input do terminal"
      ],
      "metadata": {
        "id": "M1DyHtluNjic"
      }
    },
    {
      "cell_type": "code",
      "source": [
        "idade = input(\"Quantos anos tens?\") # devolve sempre uma string\n",
        "print(type(idade))\n",
        "idade = int(idade) # convertemos a string para um inteiro\n",
        "print(idade)"
      ],
      "metadata": {
        "colab": {
          "base_uri": "https://localhost:8080/"
        },
        "id": "bOw5LdsONpvX",
        "outputId": "11e42486-c282-425b-a5e3-8f82f749f1fc"
      },
      "execution_count": null,
      "outputs": [
        {
          "output_type": "stream",
          "name": "stdout",
          "text": [
            "Quantos anos tens?30\n",
            "<class 'str'>\n",
            "30\n"
          ]
        }
      ]
    },
    {
      "cell_type": "markdown",
      "metadata": {
        "id": "LpoFdS4lpfjx"
      },
      "source": [
        "## Definição de funções\n",
        "\n",
        "Sintaxe:\n",
        "\n",
        "```\n",
        "def nome(arg1, arg2, ...):\n",
        "    instruções \n",
        "    [return resultado]\n",
        "```"
      ]
    },
    {
      "cell_type": "code",
      "execution_count": null,
      "metadata": {
        "id": "FwlcsG1spfjx",
        "colab": {
          "base_uri": "https://localhost:8080/"
        },
        "outputId": "48cc29b6-2789-4bda-fe43-0c7be4eb34e7"
      },
      "outputs": [
        {
          "output_type": "stream",
          "name": "stdout",
          "text": [
            "19\n",
            "9\n"
          ]
        }
      ],
      "source": [
        "def add(a,b):\n",
        "    return a+b\n",
        "\n",
        "print(add(7,12))\n",
        "print(add(add(2,3),4))"
      ]
    },
    {
      "cell_type": "code",
      "source": [
        "def fact(n):\n",
        "  if n == 0: return 1\n",
        "  return n * fact(n - 1)\n",
        "\n",
        "print(fact(5))"
      ],
      "metadata": {
        "colab": {
          "base_uri": "https://localhost:8080/"
        },
        "id": "uKC2flOrAc79",
        "outputId": "74db1eaa-4ba7-408a-e1b3-c4a57dff2b90"
      },
      "execution_count": null,
      "outputs": [
        {
          "output_type": "stream",
          "name": "stdout",
          "text": [
            "120\n"
          ]
        }
      ]
    },
    {
      "cell_type": "markdown",
      "metadata": {
        "id": "n5-_gOUcpfjx"
      },
      "source": [
        "### Exercício simples\n",
        "\n",
        "Especifique uma função, primeiro recursiva e depois iterativa, para calcular o resultado de elevar uma base a um determinado expoente.\n",
        "Depois escreva um programa que leia uma base B e dois expoentes Einf e Esup e imprima todas as potências de B entre Einf e Esup, usando uma das funções anteriores."
      ]
    },
    {
      "cell_type": "code",
      "execution_count": null,
      "metadata": {
        "id": "n_I8HFuwpfjx",
        "colab": {
          "base_uri": "https://localhost:8080/"
        },
        "outputId": "213eb3b3-0500-4341-a87a-ce826cc0a4ee"
      },
      "outputs": [
        {
          "output_type": "stream",
          "name": "stdout",
          "text": [
            "Base: 2\n",
            "Expoente inferior: 1\n",
            "Expoente superior: 6\n",
            "2^1 = 2\n",
            "2^2 = 4\n",
            "2^3 = 8\n",
            "2^4 = 16\n",
            "2^5 = 32\n",
            "2^6 = 64\n"
          ]
        }
      ],
      "source": [
        "def pot_recursiva(b, e):\n",
        "    if e == 0: return 1\n",
        "    if e < 0: return 1/b * pot_recursiva(b, e+1)\n",
        "    return b * pot_recursiva(b, e-1)\n",
        "\n",
        "def pot_iterativa(b, e):\n",
        "    res = 1\n",
        "    for _ in range(0,e):\n",
        "      res *= b\n",
        "    return res\n",
        "\n",
        "base = int(input(\"Base: \"))\n",
        "einf = int(input(\"Expoente inferior: \"))\n",
        "esup = int(input(\"Expoente superior: \"))\n",
        "\n",
        "for e in range(einf, esup + 1):\n",
        "  print(str(base) + \"^\" + str(e) + \" = \" + str(pot_recursiva(base, e)))\n",
        "\n"
      ]
    },
    {
      "cell_type": "markdown",
      "source": [
        "## Tipos de dados estruturados:"
      ],
      "metadata": {
        "id": "kGWEDkMjL80p"
      }
    },
    {
      "cell_type": "markdown",
      "metadata": {
        "id": "3cUF2puhpfjx"
      },
      "source": [
        "### TE1: Listas\n",
        "\n",
        "Uma lista é uma sequência finita e ordenada de elementos. Um elemento pode ser qualquer coisa."
      ]
    },
    {
      "cell_type": "markdown",
      "metadata": {
        "id": "N1MI0LE2pfjx"
      },
      "source": [
        "#### Construtores:"
      ]
    },
    {
      "cell_type": "code",
      "execution_count": null,
      "metadata": {
        "colab": {
          "base_uri": "https://localhost:8080/"
        },
        "id": "4Y9CQo26pfjy",
        "outputId": "b146d93e-c719-485a-c383-c858d30e38cd"
      },
      "outputs": [
        {
          "output_type": "stream",
          "name": "stdout",
          "text": [
            "<class 'range'>\n",
            "[2, 4, 6, 8]\n"
          ]
        }
      ],
      "source": [
        "# lista vazia\n",
        "l = [] # ou: l = list()\n",
        "# lista homogénea\n",
        "l2 = [1,2,3,4,5]\n",
        "# lista heterogénea\n",
        "l3 = [11, \"onze\", 12, \"doze\"]\n",
        "# lista a partir de *range*\n",
        "l4 = list(range(1,10))\n",
        "# range != lista\n",
        "print(type(range(1,10)))\n",
        "\n",
        "# listas por compreensão\n",
        "l5 = [x for x in range(1,10) if x % 2 == 0]\n",
        "print(l5)\n"
      ]
    },
    {
      "cell_type": "markdown",
      "metadata": {
        "id": "ozB9pFRMpfjy"
      },
      "source": [
        "#### Comprimento"
      ]
    },
    {
      "cell_type": "code",
      "execution_count": null,
      "metadata": {
        "colab": {
          "base_uri": "https://localhost:8080/"
        },
        "id": "YWy9Cy6qpfjy",
        "outputId": "c4367494-c5f1-4b62-f9ab-5e730d43234a"
      },
      "outputs": [
        {
          "output_type": "stream",
          "name": "stdout",
          "text": [
            "5\n"
          ]
        }
      ],
      "source": [
        "vogais = ['a', 'e', 'i', 'o', 'u']\n",
        "print(len(vogais))"
      ]
    },
    {
      "cell_type": "markdown",
      "metadata": {
        "id": "HEfTWjWIpfjz"
      },
      "source": [
        "#### _in_ e _not in_"
      ]
    },
    {
      "cell_type": "code",
      "execution_count": null,
      "metadata": {
        "colab": {
          "base_uri": "https://localhost:8080/"
        },
        "id": "L0_cL5Lspfjz",
        "outputId": "cdaad748-0bf1-43e3-b0e9-064d20ee3f53"
      },
      "outputs": [
        {
          "output_type": "stream",
          "name": "stdout",
          "text": [
            "[True, False, True, False, False]\n"
          ]
        }
      ],
      "source": [
        "texto = \"LGBTQIA+\"\n",
        "texto = texto.lower()\n",
        "vogaisPresentes = []\n",
        "for v in vogais:\n",
        "    if v not in texto:\n",
        "        vogaisPresentes.append(False)\n",
        "    else:\n",
        "        vogaisPresentes.append(True)\n",
        "print(vogaisPresentes)"
      ]
    },
    {
      "cell_type": "markdown",
      "metadata": {
        "id": "SnhpsjQNpfjz"
      },
      "source": [
        "#### Acrescentar elementos a uma lista"
      ]
    },
    {
      "cell_type": "code",
      "execution_count": null,
      "metadata": {
        "colab": {
          "base_uri": "https://localhost:8080/"
        },
        "id": "aKaKI7topfj0",
        "outputId": "6bd6bb5e-8859-4acc-c227-0ec1f39ab7c3"
      },
      "outputs": [
        {
          "output_type": "stream",
          "name": "stdout",
          "text": [
            "[0, 2, 4, 6, 8, 10, 12, 14, 16, 18, 20, 22, 24, 26, 28, 30, 32, 34, 36, 38, 40, 42, 44, 46, 48, 50, 52, 54, 56, 58, 60, 62, 64, 66, 68, 70, 72, 74, 76, 78, 80, 82, 84, 86, 88, 90, 92, 94, 96, 98, 100]\n"
          ]
        },
        {
          "output_type": "execute_result",
          "data": {
            "text/plain": [
              "[0,\n",
              " 2,\n",
              " 4,\n",
              " 6,\n",
              " 8,\n",
              " 10,\n",
              " 12,\n",
              " 14,\n",
              " 16,\n",
              " 18,\n",
              " 20,\n",
              " 22,\n",
              " 24,\n",
              " 26,\n",
              " 28,\n",
              " 30,\n",
              " 32,\n",
              " 34,\n",
              " 36,\n",
              " 38,\n",
              " 40,\n",
              " 42,\n",
              " 44,\n",
              " 46,\n",
              " 48,\n",
              " 50,\n",
              " 52,\n",
              " 54,\n",
              " 56,\n",
              " 58,\n",
              " 60,\n",
              " 62,\n",
              " 64,\n",
              " 66,\n",
              " 68,\n",
              " 70,\n",
              " 72,\n",
              " 74,\n",
              " 76,\n",
              " 78,\n",
              " 80,\n",
              " 82,\n",
              " 84,\n",
              " 86,\n",
              " 88,\n",
              " 90,\n",
              " 92,\n",
              " 94,\n",
              " 96,\n",
              " 98,\n",
              " 100]"
            ]
          },
          "metadata": {},
          "execution_count": 22
        }
      ],
      "source": [
        "pares100 = []\n",
        "i = 0\n",
        "while i <= 100:\n",
        "  if i % 2 == 0:\n",
        "    pares100.append(i)\n",
        "  i += 1\n",
        "print(pares100)\n",
        "\n",
        "[x for x in range(0,101) if x % 2 == 0]"
      ]
    },
    {
      "cell_type": "markdown",
      "metadata": {
        "id": "07hhFOjFpfj0"
      },
      "source": [
        "#### Apagar o conteúdo duma lista"
      ]
    },
    {
      "cell_type": "code",
      "execution_count": null,
      "metadata": {
        "colab": {
          "base_uri": "https://localhost:8080/"
        },
        "id": "LqS3Wq89pfj0",
        "outputId": "6dd01ddf-fe54-4d91-b374-41f0d179af3b"
      },
      "outputs": [
        {
          "output_type": "stream",
          "name": "stdout",
          "text": [
            "2\n",
            "[0, 4, 6, 8, 10, 12, 14, 16, 18, 20, 22, 24, 26, 28, 30, 32, 34, 36, 38, 40, 42, 44, 46, 48, 50, 52, 54, 56, 58, 60, 62, 64, 66, 68, 70, 72, 74, 76, 78, 80, 82, 84, 86, 88, 90, 92, 94, 96, 98, 100]\n",
            "[]\n"
          ]
        }
      ],
      "source": [
        "print(pares100.pop(1))\n",
        "print(pares100)\n",
        "\n",
        "pares100.clear()\n",
        "print(pares100)"
      ]
    },
    {
      "cell_type": "markdown",
      "metadata": {
        "id": "U1dSeur5pfj0"
      },
      "source": [
        "#### Copiar uma lista"
      ]
    },
    {
      "cell_type": "code",
      "execution_count": null,
      "metadata": {
        "colab": {
          "base_uri": "https://localhost:8080/"
        },
        "id": "TILGpcwApfj0",
        "outputId": "d5a5183b-02de-4540-f399-a5542eec66a8"
      },
      "outputs": [
        {
          "output_type": "stream",
          "name": "stdout",
          "text": [
            "['vermelho', 'verde', 'azul', 'amarelo']\n",
            "1\n"
          ]
        }
      ],
      "source": [
        "cores = [\"vermelho\", \"verde\", \"azul\"]\n",
        "cores2 = cores.copy() + [\"amarelo\"]\n",
        "print(cores2)\n",
        "print(cores2.index(\"verde\"))"
      ]
    },
    {
      "cell_type": "code",
      "execution_count": null,
      "metadata": {
        "colab": {
          "base_uri": "https://localhost:8080/"
        },
        "id": "JuUYG8uIpfj0",
        "outputId": "e3fe8f2f-cd42-4024-dc55-a00c3cacc190"
      },
      "outputs": [
        {
          "output_type": "stream",
          "name": "stdout",
          "text": [
            "0: vermelho\n",
            "1: verde\n",
            "2: azul\n",
            "3: amarelo\n"
          ]
        }
      ],
      "source": [
        "for i, cor in enumerate(cores2):\n",
        "    print(str(i) + \": \" + cor)"
      ]
    },
    {
      "cell_type": "markdown",
      "metadata": {
        "id": "pxfdSJTUpfj0"
      },
      "source": [
        "#### Inserir um elemento numa determinada posição"
      ]
    },
    {
      "cell_type": "code",
      "execution_count": null,
      "metadata": {
        "id": "U16byQ7rpfj0",
        "colab": {
          "base_uri": "https://localhost:8080/"
        },
        "outputId": "27f10ffa-65c4-4f34-dd32-7455f175cd20"
      },
      "outputs": [
        {
          "output_type": "stream",
          "name": "stdout",
          "text": [
            "['vermelho', 'roxo', 'verde', 'azul', 'amarelo']\n"
          ]
        }
      ],
      "source": [
        "cores2.insert(1, \"roxo\")\n",
        "print(cores2)"
      ]
    },
    {
      "cell_type": "markdown",
      "metadata": {
        "id": "N96rbo-Spfj1"
      },
      "source": [
        "#### Remover a primeira ocorrência de um elemento"
      ]
    },
    {
      "cell_type": "code",
      "execution_count": null,
      "metadata": {
        "id": "oquS-D0cpfj1",
        "colab": {
          "base_uri": "https://localhost:8080/"
        },
        "outputId": "2cd8988d-22f9-49ef-f584-f648a404f5e6"
      },
      "outputs": [
        {
          "output_type": "stream",
          "name": "stdout",
          "text": [
            "['vermelho', 'roxo', 'azul', 'amarelo', 'verde', 'verde', 'verde', 'verde', 'verde', 'verde']\n",
            "['vermelho', 'roxo', 'azul', 'amarelo', 'verde', 'verde', 'verde', 'verde', 'verde']\n"
          ]
        }
      ],
      "source": [
        "cores2 = cores2 + [\"verde\", \"verde\"]\n",
        "print(cores2)\n",
        "cores2.remove(\"verde\")\n",
        "print(cores2)"
      ]
    },
    {
      "cell_type": "markdown",
      "metadata": {
        "id": "w96jHO5Hpfj1"
      },
      "source": [
        "#### Ordem e ordenação"
      ]
    },
    {
      "cell_type": "code",
      "execution_count": null,
      "metadata": {
        "colab": {
          "base_uri": "https://localhost:8080/"
        },
        "id": "Vvcc-kv2pfj1",
        "outputId": "dc524cb7-4e9a-46ae-aef8-928498c58561"
      },
      "outputs": [
        {
          "output_type": "stream",
          "name": "stdout",
          "text": [
            "[1, 2, 3, 4, 5, 6, 7, 8, 9, 10, 11, 12, 13, 14, 15, 16, 17, 18, 19, 20]\n",
            "[20, 19, 18, 17, 16, 15, 14, 13, 12, 11, 10, 9, 8, 7, 6, 5, 4, 3, 2, 1]\n",
            "[1, 2, 3, 4, 5, 6, 7, 8, 9, 10, 11, 12, 13, 14, 15, 16, 17, 18, 19, 20]\n"
          ]
        }
      ],
      "source": [
        "lista = [x for x in range(1,21)]\n",
        "print(lista)\n",
        "lista.reverse()\n",
        "print(lista)\n",
        "lista.sort()\n",
        "print(lista)"
      ]
    },
    {
      "cell_type": "markdown",
      "source": [
        "#### Exercício: maior elemento de uma lista"
      ],
      "metadata": {
        "id": "c42ublQOGEbq"
      }
    },
    {
      "cell_type": "code",
      "source": [
        "def maior(lista):\n",
        "  res = None\n",
        "  for elem in lista:\n",
        "    if not res or elem > res:\n",
        "      res = elem\n",
        "  return res\n",
        "\n",
        "print(maior([4,2,5,1,3]))"
      ],
      "metadata": {
        "id": "mzKlwh6oGROO",
        "colab": {
          "base_uri": "https://localhost:8080/"
        },
        "outputId": "7db77f2c-8bfc-4800-e9f6-358df1924d18"
      },
      "execution_count": null,
      "outputs": [
        {
          "output_type": "stream",
          "name": "stdout",
          "text": [
            "5\n"
          ]
        }
      ]
    },
    {
      "cell_type": "markdown",
      "metadata": {
        "id": "xrODVJ71pfj2"
      },
      "source": [
        "### TE2: Tuplos\n",
        "\n",
        "Tuplos podem conter elementos de qualquer tipo, mas o seu comprimento não pode ser alterado."
      ]
    },
    {
      "cell_type": "markdown",
      "metadata": {
        "id": "KbNf6Db5pfj2"
      },
      "source": [
        "#### Construtores: (), tuple()"
      ]
    },
    {
      "cell_type": "code",
      "execution_count": null,
      "metadata": {
        "id": "HqG7nCZNpfj2"
      },
      "outputs": [],
      "source": [
        "estudante1 = (\"Jane Doe\", \"A00000\", \"ENGINF\", 21, False, True, True, False)\n",
        "coordenadas = tuple([39, 9])"
      ]
    },
    {
      "cell_type": "markdown",
      "metadata": {
        "id": "TSDccOh0pfj2"
      },
      "source": [
        "#### Acesso"
      ]
    },
    {
      "cell_type": "code",
      "execution_count": null,
      "metadata": {
        "id": "uCG9Pbd_pfj3",
        "colab": {
          "base_uri": "https://localhost:8080/"
        },
        "outputId": "2bc22c1b-76ae-4283-9128-6aae10bfa060"
      },
      "outputs": [
        {
          "output_type": "stream",
          "name": "stdout",
          "text": [
            "ENGINF\n"
          ]
        }
      ],
      "source": [
        "curso1 = estudante1[2]\n",
        "print(curso1)"
      ]
    },
    {
      "cell_type": "markdown",
      "metadata": {
        "id": "fgfBp_Gzpfj3"
      },
      "source": [
        "#### Acesso com desmembramento (unfold/unpack)"
      ]
    },
    {
      "cell_type": "code",
      "execution_count": null,
      "metadata": {
        "colab": {
          "base_uri": "https://localhost:8080/"
        },
        "id": "Jbz4eK9hpfj3",
        "outputId": "a6acde86-5554-475a-b413-4636ae0413c3"
      },
      "outputs": [
        {
          "output_type": "stream",
          "name": "stdout",
          "text": [
            "A00000: Jane Doe\n",
            "[False, True, True, False]\n"
          ]
        }
      ],
      "source": [
        "nome, id, curso, idade, *presencas = estudante1\n",
        "print(id + \": \" + nome)\n",
        "print(presencas)"
      ]
    },
    {
      "cell_type": "markdown",
      "metadata": {
        "id": "hbyiAdGopfj3"
      },
      "source": [
        "#### Testar se um valor está no tuplo"
      ]
    },
    {
      "cell_type": "code",
      "execution_count": null,
      "metadata": {
        "id": "iQIwhgjtpfj3",
        "colab": {
          "base_uri": "https://localhost:8080/"
        },
        "outputId": "bb0717d5-e25a-49e0-ba5a-8b520f31ccf5"
      },
      "outputs": [
        {
          "output_type": "stream",
          "name": "stdout",
          "text": [
            "Faltou pelo menos uma vez!\n"
          ]
        }
      ],
      "source": [
        "if False in estudante1:\n",
        "    print(\"Faltou pelo menos uma vez!\")"
      ]
    },
    {
      "cell_type": "markdown",
      "source": [
        "Para remover um elemento de um tuplo, precisamos de criar um tuplo novo."
      ],
      "metadata": {
        "id": "JpiSU5wcIGoP"
      }
    },
    {
      "cell_type": "markdown",
      "metadata": {
        "id": "s5Y6kLehpfj5"
      },
      "source": [
        "#### Exercício: unzip\n",
        "\n",
        "A partir de uma lista de tuplos, define duas listas."
      ]
    },
    {
      "cell_type": "code",
      "execution_count": null,
      "metadata": {
        "id": "uuDsGXebpfj5",
        "colab": {
          "base_uri": "https://localhost:8080/"
        },
        "outputId": "4b3f8469-60ff-4931-9863-5cd3910c0f06"
      },
      "outputs": [
        {
          "output_type": "stream",
          "name": "stdout",
          "text": [
            "[1, 2, 3, 4]\n",
            "['banana', 'maçã', 'melancia', 'cereja']\n"
          ]
        }
      ],
      "source": [
        "def unzip(l):\n",
        "  l1 = []\n",
        "  l2 = []\n",
        "  for e1, e2 in l:\n",
        "    l1.append(e1)\n",
        "    l2.append(e2)\n",
        "  return (l1, l2)\n",
        "\n",
        "lista = [(1, \"banana\"), (2, \"maçã\"), (3, \"melancia\"), (4, \"cereja\")]\n",
        "\n",
        "(unzipped1, unzipped2) = unzip(lista)\n",
        "print(unzipped1)\n",
        "print(unzipped2)"
      ]
    },
    {
      "cell_type": "markdown",
      "metadata": {
        "id": "JyP-73aZpfj5"
      },
      "source": [
        "### TE3: Dicionários\n",
        "\n",
        "#### Construtores: {}, dict()"
      ]
    },
    {
      "cell_type": "code",
      "execution_count": null,
      "metadata": {
        "colab": {
          "base_uri": "https://localhost:8080/"
        },
        "id": "g-DdhKx9pfj5",
        "outputId": "9438e632-727a-40ce-aee2-7eaf3f2511b3"
      },
      "outputs": [
        {
          "output_type": "stream",
          "name": "stdout",
          "text": [
            "{'Python': True}\n",
            "{'Python': 6, 'Haskell': 15, 'Web': {'HTML': 20, 'CSS': 13}}\n",
            "13\n",
            "{1: 'banana', 2: 'maçã', 3: 'melancia', 4: 'cereja'}\n"
          ]
        }
      ],
      "source": [
        "d1 = dict()\n",
        "d1[\"Python\"] = True\n",
        "print(d1)\n",
        "\n",
        "d2 = {\"Python\" : 6, \"Haskell\" : 15, \"Web\" : { \"HTML\" : 20, \"CSS\": 13}}\n",
        "print(d2)\n",
        "print(d2[\"Web\"][\"CSS\"])\n",
        "\n",
        "# a partir de uma lista de tuplos\n",
        "d3 = dict([(1, \"banana\"), (2, \"maçã\"), (3, \"melancia\"), (4, \"cereja\")])\n",
        "print(d3)"
      ]
    },
    {
      "cell_type": "markdown",
      "metadata": {
        "id": "TDlYO-sGpfj5"
      },
      "source": [
        "#### Acesso"
      ]
    },
    {
      "cell_type": "code",
      "execution_count": null,
      "metadata": {
        "colab": {
          "base_uri": "https://localhost:8080/"
        },
        "id": "Z-fhPKOVpfj5",
        "outputId": "e2f18bd3-3bf6-4050-a31c-aaf214290ecd"
      },
      "outputs": [
        {
          "output_type": "stream",
          "name": "stdout",
          "text": [
            "6\n",
            "Não existe!\n"
          ]
        }
      ],
      "source": [
        "compras = {'maçã': 5, 'laranja':6, 'banana': 7}\n",
        "print(compras['laranja'])\n",
        "print(compras.get('melancia', \"Não existe!\"))"
      ]
    },
    {
      "cell_type": "markdown",
      "metadata": {
        "id": "MX_YAXr0pfj6"
      },
      "source": [
        "#### Extrair chaves"
      ]
    },
    {
      "cell_type": "code",
      "execution_count": null,
      "metadata": {
        "colab": {
          "base_uri": "https://localhost:8080/"
        },
        "id": "RQgCy2cnpfj6",
        "outputId": "b9481bda-facb-4ec0-aa99-f5be70d1341f"
      },
      "outputs": [
        {
          "output_type": "stream",
          "name": "stdout",
          "text": [
            "dict_keys(['LCC', 'ENGBIOM', 'LEI', 'ENGFIS'])\n"
          ]
        }
      ],
      "source": [
        "distrib = {\"LCC\": 23, \"ENGBIOM\": 35, \"LEI\": 32, \"ENGFIS\": 17}\n",
        "chaves = distrib.keys()\n",
        "print(chaves)"
      ]
    },
    {
      "cell_type": "markdown",
      "metadata": {
        "id": "dxwP_Ugipfj6"
      },
      "source": [
        "#### Extrair valores"
      ]
    },
    {
      "cell_type": "code",
      "execution_count": null,
      "metadata": {
        "colab": {
          "base_uri": "https://localhost:8080/"
        },
        "id": "j1piqZNvpfj6",
        "outputId": "2d7547c7-c74b-4b0f-cb5c-463e0729c0fc"
      },
      "outputs": [
        {
          "output_type": "stream",
          "name": "stdout",
          "text": [
            "dict_values([23, 35, 32, 17])\n"
          ]
        }
      ],
      "source": [
        "distrib = {\"LCC\": 23, \"ENGBIOM\": 35, \"LEI\": 32, \"ENGFIS\": 17}\n",
        "valores = distrib.values()\n",
        "print(valores)"
      ]
    },
    {
      "cell_type": "markdown",
      "metadata": {
        "id": "cZcUFX7Mpfj6"
      },
      "source": [
        "#### Concatenar dicionários"
      ]
    },
    {
      "cell_type": "code",
      "execution_count": null,
      "metadata": {
        "id": "0v8AdK26pfj7",
        "colab": {
          "base_uri": "https://localhost:8080/"
        },
        "outputId": "0f6f24fe-a764-44fa-b826-a71abd642ab2"
      },
      "outputs": [
        {
          "output_type": "stream",
          "name": "stdout",
          "text": [
            "{'cenouras': 6, 'batatas': 20, 'cebolas': 12, 'tangerina': 30, 'pêras': 8, 'bananas': 6, 'romãs': 2, 'fiambre': 10, 'queijo': 16, 'chouriço': 1}\n"
          ]
        }
      ],
      "source": [
        "legumes = {\"cenouras\": 6, \"batatas\":20, \"cebolas\": 12}\n",
        "frutas = {\"tangerina\": 30, \"pêras\":8, \"bananas\": 6, \"romãs\": 2}\n",
        "charcutaria = {\"fiambre\": 10, \"queijo\": 16, \"chouriço\": 1}\n",
        "listaCompras = legumes.copy()\n",
        "listaCompras.update(frutas)\n",
        "listaCompras.update(charcutaria)\n",
        "print(listaCompras)"
      ]
    },
    {
      "cell_type": "code",
      "execution_count": null,
      "metadata": {
        "colab": {
          "base_uri": "https://localhost:8080/"
        },
        "id": "Uj6D5ssGpfj7",
        "outputId": "1d26b63c-2cbb-4d55-bab6-56129f7522c9"
      },
      "outputs": [
        {
          "output_type": "stream",
          "name": "stdout",
          "text": [
            "{'cenouras': 6, 'batatas': 20, 'cebolas': 12, 'tangerina': 30, 'pêras': 8, 'bananas': 6, 'romãs': 2, 'fiambre': 10, 'queijo': 16, 'chouriço': 1}\n"
          ]
        }
      ],
      "source": [
        "legumes = {\"cenouras\": 6, \"batatas\":20, \"cebolas\": 12}\n",
        "frutas = {\"tangerina\": 30, \"pêras\":8, \"bananas\": 6, \"romãs\": 2}\n",
        "charcutaria = {\"fiambre\": 10, \"queijo\": 16, \"chouriço\": 1}\n",
        "listaCompras = {}\n",
        "for chave in legumes.keys():\n",
        "    listaCompras[chave] = legumes[chave]\n",
        "for chave in frutas.keys():\n",
        "    listaCompras[chave] = frutas[chave]\n",
        "for chave in charcutaria:\n",
        "    listaCompras[chave] = charcutaria[chave]\n",
        "print(listaCompras)"
      ]
    },
    {
      "cell_type": "markdown",
      "metadata": {
        "id": "4nmM1G2Fpfj7"
      },
      "source": [
        "#### Verificar se uma chave está no dicionário"
      ]
    },
    {
      "cell_type": "code",
      "execution_count": null,
      "metadata": {
        "id": "Dtx8PcvEpfj7"
      },
      "outputs": [],
      "source": [
        "def pertenceChave(c, d):\n",
        "    return (c in d) "
      ]
    },
    {
      "cell_type": "code",
      "execution_count": null,
      "metadata": {
        "colab": {
          "base_uri": "https://localhost:8080/"
        },
        "id": "i5f0Blpjpfj7",
        "outputId": "7ab24e36-a0ad-423e-cd55-480539df5604"
      },
      "outputs": [
        {
          "output_type": "stream",
          "name": "stdout",
          "text": [
            "True\n",
            "False\n"
          ]
        }
      ],
      "source": [
        "print(pertenceChave(\"bananas\", listaCompras))\n",
        "print(pertenceChave(\"beterrabas\", listaCompras))"
      ]
    },
    {
      "cell_type": "markdown",
      "metadata": {
        "id": "LXsioKqepfj8"
      },
      "source": [
        "#### Exercício:\n",
        "\n",
        "Escreve um programa em Python que leia um número inteiro positivo e crie um dicionário com chaves de 1 até esse número, em que o valor associado a cada chave é o quadrado dessa chave."
      ]
    },
    {
      "cell_type": "code",
      "execution_count": null,
      "metadata": {
        "id": "LZyYn2UPpfj8",
        "colab": {
          "base_uri": "https://localhost:8080/"
        },
        "outputId": "9331cb31-756c-4583-c590-850538e6c024"
      },
      "outputs": [
        {
          "output_type": "stream",
          "name": "stdout",
          "text": [
            "introduz um valor: 5\n",
            "{1: 1, 2: 4, 3: 9, 4: 16, 5: 25}\n"
          ]
        }
      ],
      "source": [
        "v = int(input(\"introduz um valor: \"))\n",
        "\n",
        "d = {}\n",
        "for i in range(1, v+1):\n",
        "  d[i] = i ** 2\n",
        "\n",
        "print(d)"
      ]
    },
    {
      "cell_type": "markdown",
      "source": [
        "## Conceitos de Programação Funcional\n",
        "\n",
        "Em certas situações, poderá ser preferível ou até mais eficiente usar funções de ordem superior em vez de algoritmos iterativos ou compreensão de listas."
      ],
      "metadata": {
        "id": "wCFkeKNtMAhA"
      }
    },
    {
      "cell_type": "markdown",
      "source": [
        "### Map"
      ],
      "metadata": {
        "id": "zRLkFty6E4PH"
      }
    },
    {
      "cell_type": "code",
      "source": [
        "dobros = map(lambda x: x * 2, range(1,6))\n",
        "print(dobros) # funções como a map são preguiçosas, ou seja, só processam os \n",
        "              # seus valores quando estes são necessários\n",
        "print(list(dobros)) # forçamos o map a processar os valores, colocando-os numa lista"
      ],
      "metadata": {
        "colab": {
          "base_uri": "https://localhost:8080/"
        },
        "id": "g5ghmB-aMD0q",
        "outputId": "10f95867-cdba-4ff6-e976-e54998cc5f51"
      },
      "execution_count": null,
      "outputs": [
        {
          "output_type": "stream",
          "name": "stdout",
          "text": [
            "<map object at 0x7feceb1fb730>\n",
            "[2, 4, 6, 8, 10]\n"
          ]
        }
      ]
    },
    {
      "cell_type": "markdown",
      "source": [
        "### Filter"
      ],
      "metadata": {
        "id": "2Dx-0H3mE5nI"
      }
    },
    {
      "cell_type": "code",
      "source": [
        "def isEven(n):\n",
        "  return n % 2 == 0\n",
        "\n",
        "evens = filter(isEven, range(1,11))\n",
        "print(list(evens))"
      ],
      "metadata": {
        "colab": {
          "base_uri": "https://localhost:8080/"
        },
        "id": "9XGZhgzOMSwy",
        "outputId": "17b488b7-1bac-46d8-b1cf-10a3f4b1587a"
      },
      "execution_count": null,
      "outputs": [
        {
          "output_type": "stream",
          "name": "stdout",
          "text": [
            "[2, 4, 6, 8, 10]\n"
          ]
        }
      ]
    },
    {
      "cell_type": "markdown",
      "source": [
        "### Fold / reduce"
      ],
      "metadata": {
        "id": "tBKVmGNFE65i"
      }
    },
    {
      "cell_type": "code",
      "source": [
        "from functools import reduce\n",
        "\n",
        "lista = [3,5,4,6,1,2]\n",
        "maior = lista[0]\n",
        "print(\"O maior elemento é:\", reduce(lambda acc, x: x if x > acc else acc, lista, maior))\n",
        "# reduce(function, sequence[, initial]) é equivalente ao `foldl` de Haskell"
      ],
      "metadata": {
        "colab": {
          "base_uri": "https://localhost:8080/"
        },
        "id": "fsd9KSWKMh6R",
        "outputId": "b90ae514-ea87-401d-efb8-f75aa1f27963"
      },
      "execution_count": null,
      "outputs": [
        {
          "output_type": "stream",
          "name": "stdout",
          "text": [
            "O maior elemento é: 6\n"
          ]
        }
      ]
    },
    {
      "cell_type": "markdown",
      "source": [
        "## Input e Output de ficheiros"
      ],
      "metadata": {
        "id": "qnEbPLd2Nghs"
      }
    },
    {
      "cell_type": "markdown",
      "source": [
        "Modos de abertura de um ficheiro:\n",
        "* \"r\" - Read - Valor por omissão. Abre o ficheiro para leitura, devolve error se o ficheiro não existir;\n",
        "* \"a\" - Append - Abre o ficheiro para acrescentar, cria o ficheiro se este não existir;\n",
        "* \"w\" - Write - Abre o ficheiro para escrever, cria o ficheiro se este não existir, apaga o conteúdo se este existir;\n",
        "* \"x\" - Create - Cria o ficheiro, devolve error se o ficheiro já existir.\n",
        "\n",
        "Parâmetro adicional ao modo:\n",
        "* \"t\" - Text - Valor por omissão. Ficheiro textual;\n",
        "* \"b\" - Binary - Ficheiro binário, por exemplo, imagens."
      ],
      "metadata": {
        "id": "2UR1RUBmN5gI"
      }
    },
    {
      "cell_type": "code",
      "source": [
        "f = open(\"input.txt\", \"rt\")\n",
        "content = f.read() # string\n",
        "\n",
        "f.close() # Não esquecer de fechar o ficheiro"
      ],
      "metadata": {
        "id": "pLJRPs3JN7lI"
      },
      "execution_count": null,
      "outputs": []
    },
    {
      "cell_type": "markdown",
      "source": [
        "### Ler linha a linha dum ficheiro"
      ],
      "metadata": {
        "id": "E0yd830HyZnu"
      }
    },
    {
      "cell_type": "code",
      "source": [
        "f = open(\"sample_data/anscombe.json\")\n",
        "for linha in f:\n",
        "  print(linha)"
      ],
      "metadata": {
        "id": "m0HxgiGEygRv"
      },
      "execution_count": null,
      "outputs": []
    },
    {
      "cell_type": "markdown",
      "source": [
        "### Ler a primeira e a segunda linha de um ficheiro"
      ],
      "metadata": {
        "id": "YVStKrIvzA8S"
      }
    },
    {
      "cell_type": "code",
      "source": [
        "f = open(\"input.txt\")\n",
        "linha1 = f.readline()\n",
        "linha2 = f.readline()"
      ],
      "metadata": {
        "id": "OP46l5fEzH7u"
      },
      "execution_count": null,
      "outputs": []
    },
    {
      "cell_type": "markdown",
      "source": [
        "### Ler o ficheiro de uma vez"
      ],
      "metadata": {
        "id": "pshJNCFMyzJH"
      }
    },
    {
      "cell_type": "code",
      "source": [
        "with open(\"input.txt\") as f:\n",
        "  content = f.read()"
      ],
      "metadata": {
        "id": "2jsInz96OPqo"
      },
      "execution_count": null,
      "outputs": []
    },
    {
      "cell_type": "markdown",
      "source": [
        "### Escrever no ficheiro"
      ],
      "metadata": {
        "id": "w0WFl0SMy5YC"
      }
    },
    {
      "cell_type": "code",
      "source": [
        "with open(\"output.txt\", \"w\") as f:\n",
        "  f.write(\"O ficheiro só vai ter esta linha de texto.\")"
      ],
      "metadata": {
        "id": "LtDXdL0SOjee"
      },
      "execution_count": null,
      "outputs": []
    },
    {
      "cell_type": "markdown",
      "source": [
        "### Ler do stdin\n",
        "Muitos dos programas nesta UC devem ler do stdin (canal de entrada do SO).\n"
      ],
      "metadata": {
        "id": "rMaFgNA_wS2a"
      }
    },
    {
      "cell_type": "code",
      "source": [
        "import sys\n",
        "\n",
        "for linha in sys.stdin:\n",
        "  print(linha)"
      ],
      "metadata": {
        "id": "BtQ4H_Bdwx0A"
      },
      "execution_count": null,
      "outputs": []
    },
    {
      "cell_type": "markdown",
      "source": [
        "## F-strings\n",
        "\n",
        "A forma mais fácil de imprimir strings formatadas em Python é através de f-strings.\n",
        "\n",
        "Apenas colocamos um `f` antes das aspas iniciais e podemos inserir variáveis diretamente dentro de uma string com chavetas."
      ],
      "metadata": {
        "id": "ItXfVpIJGCE8"
      }
    },
    {
      "cell_type": "code",
      "source": [
        "num1 = 5\n",
        "num2 = 8\n",
        "\n",
        "print(f\"A soma de {num1} com {num2} é {num1 + num2}.\")\n",
        "print(f\"{5/3:05.3}\")"
      ],
      "metadata": {
        "colab": {
          "base_uri": "https://localhost:8080/"
        },
        "id": "ayS6h6L7GL5V",
        "outputId": "cb472f4a-d70a-4eb8-b485-fc70c9964a92"
      },
      "execution_count": null,
      "outputs": [
        {
          "output_type": "stream",
          "name": "stdout",
          "text": [
            "A soma de 5 com 8 é 13.\n",
            "01.67\n"
          ]
        }
      ]
    }
  ],
  "metadata": {
    "interpreter": {
      "hash": "aee8b7b246df8f9039afb4144a1f6fd8d2ca17a180786b69acc140d282b71a49"
    },
    "kernelspec": {
      "display_name": "Python 3.9.4 64-bit",
      "name": "python3"
    },
    "language_info": {
      "codemirror_mode": {
        "name": "ipython",
        "version": 3
      },
      "file_extension": ".py",
      "mimetype": "text/x-python",
      "name": "python",
      "nbconvert_exporter": "python",
      "pygments_lexer": "ipython3",
      "version": "3.9.1"
    },
    "orig_nbformat": 4,
    "colab": {
      "provenance": []
    }
  },
  "nbformat": 4,
  "nbformat_minor": 0
}